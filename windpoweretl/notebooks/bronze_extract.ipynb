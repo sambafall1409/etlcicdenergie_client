{
 "cells": [
  {
   "cell_type": "code",
   "execution_count": null,
   "id": "39cb555e",
   "metadata": {},
   "outputs": [],
   "source": [
    "# Configuration ADLS Gen2 - Bronze\n",
    "storage_account_name = \"sambarg\"\n",
    "container_name = \"datawindpower\"\n",
    "file_path = \"data.csv\"\n",
    "access_key = \"wAECvXOvFRxtOUBECl6wSnNqgPJmn1SdYX+MIRbYXNOBYwKsJ3AsjV0Dko6Wuxkt3yUlebMVBd6L+AStcxubTQ==\"\n",
    "\n",
    "spark.conf.set(f\"fs.azure.account.key.{storage_account_name}.dfs.core.windows.net\", access_key)\n",
    "\n",
    "# Lecture brut\n",
    "adls_path = f\"abfss://{container_name}@{storage_account_name}.dfs.core.windows.net/{file_path}\"\n",
    "df_bronze = spark.read.option(\"header\", True).option(\"inferSchema\", True).csv(adls_path)\n",
    "\n",
    "spark.sql(\"CREATE SCHEMA IF NOT EXISTS wind\")\n",
    "df_bronze.write.format(\"delta\").mode(\"overwrite\").saveAsTable(\"wind.silver_production\")\n"
   ]
  }
 ],
 "metadata": {
  "language_info": {
   "name": "python"
  }
 },
 "nbformat": 4,
 "nbformat_minor": 5
}
