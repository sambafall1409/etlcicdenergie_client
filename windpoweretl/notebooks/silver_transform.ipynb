{
 "cells": [
  {
   "cell_type": "code",
   "execution_count": null,
   "id": "550643bb",
   "metadata": {},
   "outputs": [],
   "source": [
    "from pyspark.sql.functions import col, regexp_replace, dayofmonth, month, quarter, year, substring\n",
    "\n",
    "df = spark.table(\"wind.silver_production\")\n",
    "\n",
    "df_transforme = (\n",
    "    df.withColumn(\"jour\", dayofmonth(col(\"date\")))\n",
    "      .withColumn(\"mois\", month(col(\"date\")))\n",
    "      .withColumn(\"trimestre\", quarter(col(\"date\")))\n",
    "      .withColumn(\"annee\", year(col(\"date\")))\n",
    "      .withColumn(\"heure_texte\", regexp_replace(col(\"time\"), \"-\", \":\"))\n",
    "      .withColumn(\"heure\", substring(col(\"heure_texte\"), 1, 2).cast(\"int\"))\n",
    "      .withColumn(\"minute\", substring(col(\"heure_texte\"), 4, 2).cast(\"int\"))\n",
    "      .withColumn(\"seconde\", substring(col(\"heure_texte\"), 7, 2).cast(\"int\"))\n",
    ")\n",
    "\n",
    "df_final = (\n",
    "    df_transforme\n",
    "    .withColumnRenamed(\"production_id\", \"id_production\")\n",
    "    .withColumnRenamed(\"turbine_name\", \"nom_turbine\")\n",
    "    .withColumnRenamed(\"capacity\", \"capacite\")\n",
    "    .withColumnRenamed(\"location_name\", \"nom_emplacement\")\n",
    "    .withColumnRenamed(\"region\", \"region\")\n",
    "    .withColumnRenamed(\"status\", \"etat\")\n",
    "    .withColumnRenamed(\"responsible_department\", \"departement_responsable\")\n",
    "    .withColumnRenamed(\"wind_speed\", \"vitesse_vent\")\n",
    "    .withColumnRenamed(\"wind_direction\", \"direction_vent\")\n",
    "    .withColumnRenamed(\"energy_produced\", \"energie_produite\")\n",
    ")\n",
    "\n",
    "spark.sql(\"CREATE SCHEMA IF NOT EXISTS wind\")\n",
    "df_final.write.format(\"delta\").mode(\"overwrite\").saveAsTable(\"wind.silver_production_transforme\")\n"
   ]
  },
  {
   "cell_type": "code",
   "execution_count": null,
   "id": "c7ddd677",
   "metadata": {},
   "outputs": [],
   "source": []
  }
 ],
 "metadata": {
  "language_info": {
   "name": "python"
  }
 },
 "nbformat": 4,
 "nbformat_minor": 5
}
